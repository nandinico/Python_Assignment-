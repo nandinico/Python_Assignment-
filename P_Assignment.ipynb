{
  "nbformat": 4,
  "nbformat_minor": 0,
  "metadata": {
    "colab": {
      "provenance": [],
      "authorship_tag": "ABX9TyOjsIVoczDZTzBJ8e1xNjWB",
      "include_colab_link": true
    },
    "kernelspec": {
      "name": "python3",
      "display_name": "Python 3"
    },
    "language_info": {
      "name": "python"
    }
  },
  "cells": [
    {
      "cell_type": "markdown",
      "metadata": {
        "id": "view-in-github",
        "colab_type": "text"
      },
      "source": [
        "<a href=\"https://colab.research.google.com/github/nandinico/Python_Assignment-/blob/main/P_Assignment.ipynb\" target=\"_parent\"><img src=\"https://colab.research.google.com/assets/colab-badge.svg\" alt=\"Open In Colab\"/></a>"
      ]
    },
    {
      "cell_type": "markdown",
      "source": [
        "Python Assignments: Tasks"
      ],
      "metadata": {
        "id": "tIl5a3SfsZno"
      }
    },
    {
      "cell_type": "code",
      "execution_count": null,
      "metadata": {
        "id": "X7AkfI7n2NT2"
      },
      "outputs": [],
      "source": [
        "import pandas as pd\n",
        "import numpy as np\n",
        "import matplotlib.pyplot as plt"
      ]
    },
    {
      "cell_type": "code",
      "source": [
        "#1. Write a Python program to read the contents of a text file and print them to the console.\n",
        "with open('/content/example.txt', 'r') as file:\n",
        "  contents = file.read()\n",
        "  print(contents)\n"
      ],
      "metadata": {
        "colab": {
          "base_uri": "https://localhost:8080/"
        },
        "id": "hK3DyupR21bB",
        "outputId": "a6d2df16-34a8-4e0f-9a88-43483ff90557"
      },
      "execution_count": null,
      "outputs": [
        {
          "output_type": "stream",
          "name": "stdout",
          "text": [
            "Python is a versatile, high-level programming language known for its readability and simplicity. Created by Guido van Rossum and first released in 1991, Python's design philosophy emphasizes code readability with its notable use of significant indentation. It supports multiple programming paradigms, including procedural, object-oriented, and functional programming. Python's extensive standard library and dynamic typing make it a popular choice for a wide range of applications, from web development and data analysis to artificial intelligence and scientific computing. Its active community and wealth of third-party libraries contribute to its widespread adoption and continuous improvement.\n"
          ]
        }
      ]
    },
    {
      "cell_type": "code",
      "source": [
        "#2. Write a Python program to write a list of strings to a text file, each on a new line.\n",
        "\n",
        "# List of strings to write\n",
        "a = [\"hello\", \"Guten morgen\", \"wie geht es dir ?\"]\n",
        "# Open the file in write mode\n",
        "with open(\"/content/lang.txt\", \"w\") as file:\n",
        "  # Write each string to the file on a new line\n",
        "  for string in a:\n",
        "    file.write(string + \"\\n\")\n",
        "with open('/content/lang.txt', 'r') as file:\n",
        "  contents = file.read()\n",
        "  print(contents)"
      ],
      "metadata": {
        "colab": {
          "base_uri": "https://localhost:8080/"
        },
        "id": "Ykerj7HdGXAx",
        "outputId": "661c37f2-c229-4731-92f7-85fc6e5f424e"
      },
      "execution_count": null,
      "outputs": [
        {
          "output_type": "stream",
          "name": "stdout",
          "text": [
            "hello\n",
            "Guten morgen\n",
            "wie geht es dir ?\n",
            "\n"
          ]
        }
      ]
    },
    {
      "cell_type": "code",
      "source": [
        "#3. Simple Data Analysis with pandas\n",
        "    #Write a Python program that loads a CSV file into a pandas DataFrame and performs the following operations:\n",
        "      #Display the first few rows of the DataFrame.\n",
        "\n",
        "file = '/content/assign.csv'\n",
        "df = pd.read_csv(file)\n",
        "print(df.head())\n",
        "\n",
        "\n"
      ],
      "metadata": {
        "colab": {
          "base_uri": "https://localhost:8080/"
        },
        "id": "mpm8pC_zXrlX",
        "outputId": "a1b23a2c-a018-469c-bd9a-6f311458304f"
      },
      "execution_count": null,
      "outputs": [
        {
          "output_type": "stream",
          "name": "stdout",
          "text": [
            "      Name  Age      Occupation\n",
            "0    Alice   30        Engineer\n",
            "1      Bob   25        Designer\n",
            "2  Charlie   35         Teacher\n",
            "3    Diana   28  Data Scientist\n",
            "4      Eve   40         Manager\n"
          ]
        }
      ]
    },
    {
      "cell_type": "code",
      "source": [
        "#Calculate and display basic statistics (mean, median, mode) for numerical columns\n",
        "\n",
        "mean_age = df['Age'].mean()\n",
        "median_age = df['Age'].median()\n",
        "mode_age = df['Age'].mode()[0]\n",
        "\n",
        "# Display the statistics\n",
        "print(f\"Mean Age: {mean_age}\")\n",
        "print(f\"Median Age: {median_age}\")\n",
        "print(f\"Mode Age: {mode_age}\")"
      ],
      "metadata": {
        "colab": {
          "base_uri": "https://localhost:8080/"
        },
        "id": "XAgSGTXhcsNa",
        "outputId": "d59518a0-b4fa-4065-af8b-71ffb86ed502"
      },
      "execution_count": null,
      "outputs": [
        {
          "output_type": "stream",
          "name": "stdout",
          "text": [
            "Mean Age: 34.666666666666664\n",
            "Median Age: 35.0\n",
            "Mode Age: 28\n"
          ]
        }
      ]
    },
    {
      "cell_type": "code",
      "source": [
        "#Filter the DataFrame to display rows that meet certain criteria.\n",
        "\n",
        "# Filter the DataFrame where Age is greater than 30\n",
        "filtered = df[df['Age'] > 30]\n",
        "# Display the filtered DataFrame\n",
        "print(filtered)"
      ],
      "metadata": {
        "colab": {
          "base_uri": "https://localhost:8080/"
        },
        "id": "i_ANu6zlrtc_",
        "outputId": "b2f6c179-b82c-4040-d6e3-4230d558d14d"
      },
      "execution_count": null,
      "outputs": [
        {
          "output_type": "stream",
          "name": "stdout",
          "text": [
            "      Name  Age  Occupation\n",
            "2  Charlie   35     Teacher\n",
            "4      Eve   40     Manager\n",
            "5    Diana   42      Doctor\n",
            "6     Liza   45     Teacher\n",
            "7     Tina   39  Accountant\n"
          ]
        }
      ]
    },
    {
      "cell_type": "markdown",
      "source": [
        "Python Assignment: Project\n"
      ],
      "metadata": {
        "id": "b_PWOdDOtGe0"
      }
    },
    {
      "cell_type": "code",
      "source": [
        "import pandas as pd\n",
        "import numpy as np\n",
        "import matplotlib.pyplot as plt\n",
        "from sklearn.model_selection import train_test_split\n",
        "from sklearn.linear_model import LinearRegression\n",
        "from sklearn.metrics import mean_squared_error, r2_score\n",
        "\n",
        "# Load the dataset\n",
        "url = 'https://raw.githubusercontent.com/selva86/datasets/master/BostonHousing.csv'\n",
        "data = pd.read_csv(url)\n",
        "\n",
        "# Load the dataset into a pandas DataFrame\n",
        "df = pd.read_csv(url)\n",
        "\n",
        "# Display the first few rows of the dataset\n",
        "print(df.head())\n",
        "\n",
        "# Get a summary of the dataset\n",
        "print(df.describe())\n",
        "\n",
        "# Select relevant features\n",
        "X = df[['rm']]  # Feature\n",
        "y = df['medv']  # Target\n",
        "\n",
        "# Split the dataset into training and testing sets\n",
        "X_train, X_test, y_train, y_test = train_test_split(X, y, test_size=0.2, random_state=42)\n",
        "\n",
        "# Initialize and train a Linear Regression model\n",
        "model = LinearRegression()\n",
        "model.fit(X_train, y_train)\n",
        "\n",
        "# Make predictions on the test set\n",
        "y_pred = model.predict(X_test)\n",
        "\n",
        "# Evaluate the model's performance\n",
        "mse = mean_squared_error(y_test, y_pred)\n",
        "r2 = r2_score(y_test, y_pred)\n",
        "print(f\"\\nMean Squared Error: {mse}\")\n",
        "print(f\"R-squared: {r2}\")\n",
        "\n",
        "# Scatter plot of actual vs. predicted values\n",
        "plt.scatter(y_test, y_pred, color='blue', label='Predicted vs Actual')\n",
        "plt.xlabel('Actual MEDV')\n",
        "plt.ylabel('Predicted MEDV')\n",
        "plt.title('Actual vs. Predicted MEDV')\n",
        "plt.legend()\n",
        "plt.show()"
      ],
      "metadata": {
        "colab": {
          "base_uri": "https://localhost:8080/",
          "height": 1000
        },
        "id": "NA0I7PqztNPJ",
        "outputId": "ce1289b2-975c-4876-b052-2695058336f0"
      },
      "execution_count": null,
      "outputs": [
        {
          "output_type": "stream",
          "name": "stdout",
          "text": [
            "      crim    zn  indus  chas    nox     rm   age     dis  rad  tax  ptratio  \\\n",
            "0  0.00632  18.0   2.31     0  0.538  6.575  65.2  4.0900    1  296     15.3   \n",
            "1  0.02731   0.0   7.07     0  0.469  6.421  78.9  4.9671    2  242     17.8   \n",
            "2  0.02729   0.0   7.07     0  0.469  7.185  61.1  4.9671    2  242     17.8   \n",
            "3  0.03237   0.0   2.18     0  0.458  6.998  45.8  6.0622    3  222     18.7   \n",
            "4  0.06905   0.0   2.18     0  0.458  7.147  54.2  6.0622    3  222     18.7   \n",
            "\n",
            "        b  lstat  medv  \n",
            "0  396.90   4.98  24.0  \n",
            "1  396.90   9.14  21.6  \n",
            "2  392.83   4.03  34.7  \n",
            "3  394.63   2.94  33.4  \n",
            "4  396.90   5.33  36.2  \n",
            "             crim          zn       indus        chas         nox          rm  \\\n",
            "count  506.000000  506.000000  506.000000  506.000000  506.000000  506.000000   \n",
            "mean     3.613524   11.363636   11.136779    0.069170    0.554695    6.284634   \n",
            "std      8.601545   23.322453    6.860353    0.253994    0.115878    0.702617   \n",
            "min      0.006320    0.000000    0.460000    0.000000    0.385000    3.561000   \n",
            "25%      0.082045    0.000000    5.190000    0.000000    0.449000    5.885500   \n",
            "50%      0.256510    0.000000    9.690000    0.000000    0.538000    6.208500   \n",
            "75%      3.677083   12.500000   18.100000    0.000000    0.624000    6.623500   \n",
            "max     88.976200  100.000000   27.740000    1.000000    0.871000    8.780000   \n",
            "\n",
            "              age         dis         rad         tax     ptratio           b  \\\n",
            "count  506.000000  506.000000  506.000000  506.000000  506.000000  506.000000   \n",
            "mean    68.574901    3.795043    9.549407  408.237154   18.455534  356.674032   \n",
            "std     28.148861    2.105710    8.707259  168.537116    2.164946   91.294864   \n",
            "min      2.900000    1.129600    1.000000  187.000000   12.600000    0.320000   \n",
            "25%     45.025000    2.100175    4.000000  279.000000   17.400000  375.377500   \n",
            "50%     77.500000    3.207450    5.000000  330.000000   19.050000  391.440000   \n",
            "75%     94.075000    5.188425   24.000000  666.000000   20.200000  396.225000   \n",
            "max    100.000000   12.126500   24.000000  711.000000   22.000000  396.900000   \n",
            "\n",
            "            lstat        medv  \n",
            "count  506.000000  506.000000  \n",
            "mean    12.653063   22.532806  \n",
            "std      7.141062    9.197104  \n",
            "min      1.730000    5.000000  \n",
            "25%      6.950000   17.025000  \n",
            "50%     11.360000   21.200000  \n",
            "75%     16.955000   25.000000  \n",
            "max     37.970000   50.000000  \n",
            "\n",
            "Mean Squared Error: 46.144775347317264\n",
            "R-squared: 0.3707569232254778\n"
          ]
        },
        {
          "output_type": "display_data",
          "data": {
            "text/plain": [
              "<Figure size 640x480 with 1 Axes>"
            ],
            "image/png": "[encoded data removed]"
          },
          "metadata": {}
        }
      ]
    }
  ]
}